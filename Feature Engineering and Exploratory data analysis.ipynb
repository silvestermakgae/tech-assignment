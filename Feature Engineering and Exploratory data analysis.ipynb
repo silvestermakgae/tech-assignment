{
 "cells": [
  {
   "cell_type": "markdown",
   "metadata": {
    "id": "niuxCA8C57mn"
   },
   "source": [
    "EDA & Feature Engineering"
   ]
  },
  {
   "cell_type": "code",
   "execution_count": 1,
   "metadata": {
    "executionInfo": {
     "elapsed": 705,
     "status": "ok",
     "timestamp": 1618499703035,
     "user": {
      "displayName": "Sylvester Makgae",
      "photoUrl": "https://lh3.googleusercontent.com/a-/AOh14GgLGUG48jGOJcNGtkP0cg4sx3QW53HJGUf-j5pqVg=s64",
      "userId": "07278917890406031096"
     },
     "user_tz": -120
    },
    "id": "Pbfnxwui57mv"
   },
   "outputs": [],
   "source": [
    "import numpy as n\n",
    "import random\n",
    "import pandas as pd\n",
    "# Code to read csv file into Colaboratory:\n"
   ]
  },
  {
   "cell_type": "code",
   "execution_count": 2,
   "metadata": {
    "colab": {
     "base_uri": "https://localhost:8080/"
    },
    "executionInfo": {
     "elapsed": 974,
     "status": "ok",
     "timestamp": 1618499704612,
     "user": {
      "displayName": "Sylvester Makgae",
      "photoUrl": "https://lh3.googleusercontent.com/a-/AOh14GgLGUG48jGOJcNGtkP0cg4sx3QW53HJGUf-j5pqVg=s64",
      "userId": "07278917890406031096"
     },
     "user_tz": -120
    },
    "id": "JUNZdUsw9Lj2",
    "outputId": "7dbff172-7418-4951-89e2-e10ee3cde3ff"
   },
   "outputs": [],
   "source": [
    "#from google.colab import drive\n",
    "#drive.mount('/content/drive')\n",
    "\n",
    "train = pd.read_csv(\"train\")"
   ]
  },
  {
   "cell_type": "code",
   "execution_count": null,
   "metadata": {
    "executionInfo": {
     "elapsed": 9790,
     "status": "ok",
     "timestamp": 1618499714132,
     "user": {
      "displayName": "Sylvester Makgae",
      "photoUrl": "https://lh3.googleusercontent.com/a-/AOh14GgLGUG48jGOJcNGtkP0cg4sx3QW53HJGUf-j5pqVg=s64",
      "userId": "07278917890406031096"
     },
     "user_tz": -120
    },
    "id": "HuzC13P9-LYh"
   },
   "outputs": [],
   "source": []
  },
  {
   "cell_type": "code",
   "execution_count": 3,
   "metadata": {
    "colab": {
     "base_uri": "https://localhost:8080/",
     "height": 439
    },
    "executionInfo": {
     "elapsed": 9133,
     "status": "ok",
     "timestamp": 1618499714134,
     "user": {
      "displayName": "Sylvester Makgae",
      "photoUrl": "https://lh3.googleusercontent.com/a-/AOh14GgLGUG48jGOJcNGtkP0cg4sx3QW53HJGUf-j5pqVg=s64",
      "userId": "07278917890406031096"
     },
     "user_tz": -120
    },
    "id": "OQVx9Cg457mw",
    "outputId": "e4b5686b-0ff9-4ebd-caed-e1948a8826ab"
   },
   "outputs": [
    {
     "data": {
      "text/html": [
       "<div>\n",
       "<style scoped>\n",
       "    .dataframe tbody tr th:only-of-type {\n",
       "        vertical-align: middle;\n",
       "    }\n",
       "\n",
       "    .dataframe tbody tr th {\n",
       "        vertical-align: top;\n",
       "    }\n",
       "\n",
       "    .dataframe thead th {\n",
       "        text-align: right;\n",
       "    }\n",
       "</style>\n",
       "<table border=\"1\" class=\"dataframe\">\n",
       "  <thead>\n",
       "    <tr style=\"text-align: right;\">\n",
       "      <th></th>\n",
       "      <th>id</th>\n",
       "      <th>unix_timestamp</th>\n",
       "      <th>ui_component_position</th>\n",
       "      <th>site_id</th>\n",
       "      <th>site_domain</th>\n",
       "      <th>site_category</th>\n",
       "      <th>app_id</th>\n",
       "      <th>app_domain</th>\n",
       "      <th>app_category</th>\n",
       "      <th>device_id</th>\n",
       "      <th>...</th>\n",
       "      <th>f0</th>\n",
       "      <th>f1</th>\n",
       "      <th>f2</th>\n",
       "      <th>f3</th>\n",
       "      <th>f4</th>\n",
       "      <th>f5</th>\n",
       "      <th>f6</th>\n",
       "      <th>f7</th>\n",
       "      <th>f8</th>\n",
       "      <th>click</th>\n",
       "    </tr>\n",
       "  </thead>\n",
       "  <tbody>\n",
       "    <tr>\n",
       "      <th>0</th>\n",
       "      <td>10000679056417042096</td>\n",
       "      <td>1413849600</td>\n",
       "      <td>1</td>\n",
       "      <td>fe8cc448</td>\n",
       "      <td>9166c161</td>\n",
       "      <td>0569f928</td>\n",
       "      <td>ecad2386</td>\n",
       "      <td>7801e8d9</td>\n",
       "      <td>07d7df22</td>\n",
       "      <td>a99f214a</td>\n",
       "      <td>...</td>\n",
       "      <td>1005</td>\n",
       "      <td>18993</td>\n",
       "      <td>320</td>\n",
       "      <td>50</td>\n",
       "      <td>2161</td>\n",
       "      <td>0</td>\n",
       "      <td>35</td>\n",
       "      <td>NaN</td>\n",
       "      <td>157</td>\n",
       "      <td>0</td>\n",
       "    </tr>\n",
       "    <tr>\n",
       "      <th>1</th>\n",
       "      <td>10010730108771379386</td>\n",
       "      <td>1413849600</td>\n",
       "      <td>1</td>\n",
       "      <td>e151e245</td>\n",
       "      <td>7e091613</td>\n",
       "      <td>f028772b</td>\n",
       "      <td>ecad2386</td>\n",
       "      <td>7801e8d9</td>\n",
       "      <td>07d7df22</td>\n",
       "      <td>a99f214a</td>\n",
       "      <td>...</td>\n",
       "      <td>1005</td>\n",
       "      <td>20634</td>\n",
       "      <td>320</td>\n",
       "      <td>50</td>\n",
       "      <td>2374</td>\n",
       "      <td>3</td>\n",
       "      <td>39</td>\n",
       "      <td>NaN</td>\n",
       "      <td>23</td>\n",
       "      <td>0</td>\n",
       "    </tr>\n",
       "    <tr>\n",
       "      <th>2</th>\n",
       "      <td>10017325201002992404</td>\n",
       "      <td>1413849600</td>\n",
       "      <td>0</td>\n",
       "      <td>1fbe01fe</td>\n",
       "      <td>f3845767</td>\n",
       "      <td>28905ebd</td>\n",
       "      <td>ecad2386</td>\n",
       "      <td>7801e8d9</td>\n",
       "      <td>07d7df22</td>\n",
       "      <td>a99f214a</td>\n",
       "      <td>...</td>\n",
       "      <td>1005</td>\n",
       "      <td>15705</td>\n",
       "      <td>320</td>\n",
       "      <td>50</td>\n",
       "      <td>1722</td>\n",
       "      <td>0</td>\n",
       "      <td>35</td>\n",
       "      <td>NaN</td>\n",
       "      <td>79</td>\n",
       "      <td>1</td>\n",
       "    </tr>\n",
       "    <tr>\n",
       "      <th>3</th>\n",
       "      <td>10018897422996679694</td>\n",
       "      <td>1413849600</td>\n",
       "      <td>1</td>\n",
       "      <td>e151e245</td>\n",
       "      <td>7e091613</td>\n",
       "      <td>f028772b</td>\n",
       "      <td>ecad2386</td>\n",
       "      <td>7801e8d9</td>\n",
       "      <td>07d7df22</td>\n",
       "      <td>a99f214a</td>\n",
       "      <td>...</td>\n",
       "      <td>1005</td>\n",
       "      <td>20366</td>\n",
       "      <td>320</td>\n",
       "      <td>50</td>\n",
       "      <td>2333</td>\n",
       "      <td>0</td>\n",
       "      <td>39</td>\n",
       "      <td>NaN</td>\n",
       "      <td>157</td>\n",
       "      <td>0</td>\n",
       "    </tr>\n",
       "    <tr>\n",
       "      <th>4</th>\n",
       "      <td>10024660782388112342</td>\n",
       "      <td>1413849600</td>\n",
       "      <td>1</td>\n",
       "      <td>d9750ee7</td>\n",
       "      <td>98572c79</td>\n",
       "      <td>f028772b</td>\n",
       "      <td>ecad2386</td>\n",
       "      <td>7801e8d9</td>\n",
       "      <td>07d7df22</td>\n",
       "      <td>a99f214a</td>\n",
       "      <td>...</td>\n",
       "      <td>1005</td>\n",
       "      <td>17614</td>\n",
       "      <td>320</td>\n",
       "      <td>50</td>\n",
       "      <td>1993</td>\n",
       "      <td>2</td>\n",
       "      <td>1063</td>\n",
       "      <td>100083.0</td>\n",
       "      <td>33</td>\n",
       "      <td>1</td>\n",
       "    </tr>\n",
       "    <tr>\n",
       "      <th>...</th>\n",
       "      <td>...</td>\n",
       "      <td>...</td>\n",
       "      <td>...</td>\n",
       "      <td>...</td>\n",
       "      <td>...</td>\n",
       "      <td>...</td>\n",
       "      <td>...</td>\n",
       "      <td>...</td>\n",
       "      <td>...</td>\n",
       "      <td>...</td>\n",
       "      <td>...</td>\n",
       "      <td>...</td>\n",
       "      <td>...</td>\n",
       "      <td>...</td>\n",
       "      <td>...</td>\n",
       "      <td>...</td>\n",
       "      <td>...</td>\n",
       "      <td>...</td>\n",
       "      <td>...</td>\n",
       "      <td>...</td>\n",
       "      <td>...</td>\n",
       "    </tr>\n",
       "    <tr>\n",
       "      <th>1999994</th>\n",
       "      <td>9985626755387297314</td>\n",
       "      <td>1414710000</td>\n",
       "      <td>1</td>\n",
       "      <td>e151e245</td>\n",
       "      <td>7e091613</td>\n",
       "      <td>f028772b</td>\n",
       "      <td>ecad2386</td>\n",
       "      <td>7801e8d9</td>\n",
       "      <td>07d7df22</td>\n",
       "      <td>a99f214a</td>\n",
       "      <td>...</td>\n",
       "      <td>1005</td>\n",
       "      <td>17037</td>\n",
       "      <td>320</td>\n",
       "      <td>50</td>\n",
       "      <td>1934</td>\n",
       "      <td>2</td>\n",
       "      <td>39</td>\n",
       "      <td>NaN</td>\n",
       "      <td>16</td>\n",
       "      <td>0</td>\n",
       "    </tr>\n",
       "    <tr>\n",
       "      <th>1999995</th>\n",
       "      <td>9987260269049664739</td>\n",
       "      <td>1414710000</td>\n",
       "      <td>0</td>\n",
       "      <td>85f751fd</td>\n",
       "      <td>c4e18dd6</td>\n",
       "      <td>50e219e0</td>\n",
       "      <td>e2fcccd2</td>\n",
       "      <td>5c5a694b</td>\n",
       "      <td>0f2161f8</td>\n",
       "      <td>c7a43d7c</td>\n",
       "      <td>...</td>\n",
       "      <td>1005</td>\n",
       "      <td>20632</td>\n",
       "      <td>320</td>\n",
       "      <td>50</td>\n",
       "      <td>2374</td>\n",
       "      <td>3</td>\n",
       "      <td>39</td>\n",
       "      <td>NaN</td>\n",
       "      <td>23</td>\n",
       "      <td>0</td>\n",
       "    </tr>\n",
       "    <tr>\n",
       "      <th>1999996</th>\n",
       "      <td>9989166246566057980</td>\n",
       "      <td>1414710000</td>\n",
       "      <td>0</td>\n",
       "      <td>1fbe01fe</td>\n",
       "      <td>f3845767</td>\n",
       "      <td>28905ebd</td>\n",
       "      <td>ecad2386</td>\n",
       "      <td>7801e8d9</td>\n",
       "      <td>07d7df22</td>\n",
       "      <td>a99f214a</td>\n",
       "      <td>...</td>\n",
       "      <td>1005</td>\n",
       "      <td>22676</td>\n",
       "      <td>320</td>\n",
       "      <td>50</td>\n",
       "      <td>2616</td>\n",
       "      <td>0</td>\n",
       "      <td>35</td>\n",
       "      <td>NaN</td>\n",
       "      <td>51</td>\n",
       "      <td>0</td>\n",
       "    </tr>\n",
       "    <tr>\n",
       "      <th>1999997</th>\n",
       "      <td>9995700942528439110</td>\n",
       "      <td>1414710000</td>\n",
       "      <td>0</td>\n",
       "      <td>85f751fd</td>\n",
       "      <td>c4e18dd6</td>\n",
       "      <td>50e219e0</td>\n",
       "      <td>9c13b419</td>\n",
       "      <td>2347f47a</td>\n",
       "      <td>f95efa07</td>\n",
       "      <td>a99f214a</td>\n",
       "      <td>...</td>\n",
       "      <td>1005</td>\n",
       "      <td>23725</td>\n",
       "      <td>320</td>\n",
       "      <td>50</td>\n",
       "      <td>2716</td>\n",
       "      <td>3</td>\n",
       "      <td>47</td>\n",
       "      <td>100217.0</td>\n",
       "      <td>23</td>\n",
       "      <td>0</td>\n",
       "    </tr>\n",
       "    <tr>\n",
       "      <th>1999998</th>\n",
       "      <td>9997782484512570704</td>\n",
       "      <td>1414710000</td>\n",
       "      <td>1</td>\n",
       "      <td>85f751fd</td>\n",
       "      <td>c4e18dd6</td>\n",
       "      <td>50e219e0</td>\n",
       "      <td>cf0327f9</td>\n",
       "      <td>2347f47a</td>\n",
       "      <td>0f2161f8</td>\n",
       "      <td>e5ad704a</td>\n",
       "      <td>...</td>\n",
       "      <td>1005</td>\n",
       "      <td>23644</td>\n",
       "      <td>300</td>\n",
       "      <td>50</td>\n",
       "      <td>2709</td>\n",
       "      <td>3</td>\n",
       "      <td>39</td>\n",
       "      <td>100013.0</td>\n",
       "      <td>23</td>\n",
       "      <td>0</td>\n",
       "    </tr>\n",
       "  </tbody>\n",
       "</table>\n",
       "<p>1999999 rows × 24 columns</p>\n",
       "</div>"
      ],
      "text/plain": [
       "                           id  unix_timestamp  ui_component_position  \\\n",
       "0        10000679056417042096      1413849600                      1   \n",
       "1        10010730108771379386      1413849600                      1   \n",
       "2        10017325201002992404      1413849600                      0   \n",
       "3        10018897422996679694      1413849600                      1   \n",
       "4        10024660782388112342      1413849600                      1   \n",
       "...                       ...             ...                    ...   \n",
       "1999994   9985626755387297314      1414710000                      1   \n",
       "1999995   9987260269049664739      1414710000                      0   \n",
       "1999996   9989166246566057980      1414710000                      0   \n",
       "1999997   9995700942528439110      1414710000                      0   \n",
       "1999998   9997782484512570704      1414710000                      1   \n",
       "\n",
       "          site_id site_domain site_category    app_id app_domain app_category  \\\n",
       "0        fe8cc448    9166c161      0569f928  ecad2386   7801e8d9     07d7df22   \n",
       "1        e151e245    7e091613      f028772b  ecad2386   7801e8d9     07d7df22   \n",
       "2        1fbe01fe    f3845767      28905ebd  ecad2386   7801e8d9     07d7df22   \n",
       "3        e151e245    7e091613      f028772b  ecad2386   7801e8d9     07d7df22   \n",
       "4        d9750ee7    98572c79      f028772b  ecad2386   7801e8d9     07d7df22   \n",
       "...           ...         ...           ...       ...        ...          ...   \n",
       "1999994  e151e245    7e091613      f028772b  ecad2386   7801e8d9     07d7df22   \n",
       "1999995  85f751fd    c4e18dd6      50e219e0  e2fcccd2   5c5a694b     0f2161f8   \n",
       "1999996  1fbe01fe    f3845767      28905ebd  ecad2386   7801e8d9     07d7df22   \n",
       "1999997  85f751fd    c4e18dd6      50e219e0  9c13b419   2347f47a     f95efa07   \n",
       "1999998  85f751fd    c4e18dd6      50e219e0  cf0327f9   2347f47a     0f2161f8   \n",
       "\n",
       "        device_id  ...    f0     f1   f2  f3    f4  f5    f6        f7   f8  \\\n",
       "0        a99f214a  ...  1005  18993  320  50  2161   0    35       NaN  157   \n",
       "1        a99f214a  ...  1005  20634  320  50  2374   3    39       NaN   23   \n",
       "2        a99f214a  ...  1005  15705  320  50  1722   0    35       NaN   79   \n",
       "3        a99f214a  ...  1005  20366  320  50  2333   0    39       NaN  157   \n",
       "4        a99f214a  ...  1005  17614  320  50  1993   2  1063  100083.0   33   \n",
       "...           ...  ...   ...    ...  ...  ..   ...  ..   ...       ...  ...   \n",
       "1999994  a99f214a  ...  1005  17037  320  50  1934   2    39       NaN   16   \n",
       "1999995  c7a43d7c  ...  1005  20632  320  50  2374   3    39       NaN   23   \n",
       "1999996  a99f214a  ...  1005  22676  320  50  2616   0    35       NaN   51   \n",
       "1999997  a99f214a  ...  1005  23725  320  50  2716   3    47  100217.0   23   \n",
       "1999998  e5ad704a  ...  1005  23644  300  50  2709   3    39  100013.0   23   \n",
       "\n",
       "         click  \n",
       "0            0  \n",
       "1            0  \n",
       "2            1  \n",
       "3            0  \n",
       "4            1  \n",
       "...        ...  \n",
       "1999994      0  \n",
       "1999995      0  \n",
       "1999996      0  \n",
       "1999997      0  \n",
       "1999998      0  \n",
       "\n",
       "[1999999 rows x 24 columns]"
      ]
     },
     "execution_count": 3,
     "metadata": {},
     "output_type": "execute_result"
    }
   ],
   "source": [
    "train"
   ]
  },
  {
   "cell_type": "code",
   "execution_count": 4,
   "metadata": {
    "colab": {
     "base_uri": "https://localhost:8080/"
    },
    "executionInfo": {
     "elapsed": 7382,
     "status": "ok",
     "timestamp": 1618499714135,
     "user": {
      "displayName": "Sylvester Makgae",
      "photoUrl": "https://lh3.googleusercontent.com/a-/AOh14GgLGUG48jGOJcNGtkP0cg4sx3QW53HJGUf-j5pqVg=s64",
      "userId": "07278917890406031096"
     },
     "user_tz": -120
    },
    "id": "ObUrziH557mx",
    "outputId": "9b4b9168-45c5-4874-ed42-f1b4475aecdd"
   },
   "outputs": [
    {
     "name": "stdout",
     "output_type": "stream",
     "text": [
      "<class 'pandas.core.frame.DataFrame'>\n",
      "RangeIndex: 1999999 entries, 0 to 1999998\n",
      "Data columns (total 24 columns):\n",
      " #   Column                 Dtype  \n",
      "---  ------                 -----  \n",
      " 0   id                     uint64 \n",
      " 1   unix_timestamp         int64  \n",
      " 2   ui_component_position  int64  \n",
      " 3   site_id                object \n",
      " 4   site_domain            object \n",
      " 5   site_category          object \n",
      " 6   app_id                 object \n",
      " 7   app_domain             object \n",
      " 8   app_category           object \n",
      " 9   device_id              object \n",
      " 10  device_ip              object \n",
      " 11  device_model           object \n",
      " 12  device_type            int64  \n",
      " 13  device_conn_type       int64  \n",
      " 14  f0                     int64  \n",
      " 15  f1                     int64  \n",
      " 16  f2                     int64  \n",
      " 17  f3                     int64  \n",
      " 18  f4                     int64  \n",
      " 19  f5                     int64  \n",
      " 20  f6                     int64  \n",
      " 21  f7                     float64\n",
      " 22  f8                     int64  \n",
      " 23  click                  int64  \n",
      "dtypes: float64(1), int64(13), object(9), uint64(1)\n",
      "memory usage: 366.2+ MB\n"
     ]
    }
   ],
   "source": [
    "train.info()"
   ]
  },
  {
   "cell_type": "markdown",
   "metadata": {
    "id": "aZ76aeG057mx"
   },
   "source": [
    "### Features\n",
    "\n",
    "Target feature : click <br>\n",
    "site features : site_id, site_domain, site_category<br>\n",
    "app feature: app_id, app_domain, app_category<br>\n",
    "device feature: device_id, device_ip, device_model, device_type, device_conn_type<br>\n",
    "anonymized categorical features: f0-f8<br>"
   ]
  },
  {
   "cell_type": "code",
   "execution_count": 5,
   "metadata": {
    "colab": {
     "base_uri": "https://localhost:8080/",
     "height": 290
    },
    "executionInfo": {
     "elapsed": 5887,
     "status": "ok",
     "timestamp": 1618499714758,
     "user": {
      "displayName": "Sylvester Makgae",
      "photoUrl": "https://lh3.googleusercontent.com/a-/AOh14GgLGUG48jGOJcNGtkP0cg4sx3QW53HJGUf-j5pqVg=s64",
      "userId": "07278917890406031096"
     },
     "user_tz": -120
    },
    "id": "nMQx5S1f57my",
    "outputId": "1c912932-7767-4d25-c7cd-826eb958616b"
   },
   "outputs": [
    {
     "data": {
      "image/png": "[encoded data removed]",
      "text/plain": [
       "<Figure size 432x288 with 1 Axes>"
      ]
     },
     "metadata": {
      "needs_background": "light"
     },
     "output_type": "display_data"
    }
   ],
   "source": [
    "import seaborn as sns\n",
    "import matplotlib.pyplot as plt\n",
    "\n",
    "sns.countplot(x='click',data=train, palette='hls')\n",
    "plt.show()"
   ]
  },
  {
   "cell_type": "code",
   "execution_count": 6,
   "metadata": {
    "colab": {
     "base_uri": "https://localhost:8080/"
    },
    "executionInfo": {
     "elapsed": 4272,
     "status": "ok",
     "timestamp": 1618499714760,
     "user": {
      "displayName": "Sylvester Makgae",
      "photoUrl": "https://lh3.googleusercontent.com/a-/AOh14GgLGUG48jGOJcNGtkP0cg4sx3QW53HJGUf-j5pqVg=s64",
      "userId": "07278917890406031096"
     },
     "user_tz": -120
    },
    "id": "466GCJNo57my",
    "outputId": "5fe305a6-a970-4978-a129-5a674a9af38b"
   },
   "outputs": [
    {
     "data": {
      "text/plain": [
       "0    0.830121\n",
       "1    0.169879\n",
       "Name: click, dtype: float64"
      ]
     },
     "execution_count": 6,
     "metadata": {},
     "output_type": "execute_result"
    }
   ],
   "source": [
    "train['click'].value_counts()/len(train)"
   ]
  },
  {
   "cell_type": "markdown",
   "metadata": {
    "id": "VWXiZJ9w57mz"
   },
   "source": [
    "The overall click through rate is approx. 17%, and approx. 83% is not clicked."
   ]
  },
  {
   "cell_type": "code",
   "execution_count": 7,
   "metadata": {
    "executionInfo": {
     "elapsed": 3404,
     "status": "ok",
     "timestamp": 1618499714761,
     "user": {
      "displayName": "Sylvester Makgae",
      "photoUrl": "https://lh3.googleusercontent.com/a-/AOh14GgLGUG48jGOJcNGtkP0cg4sx3QW53HJGUf-j5pqVg=s64",
      "userId": "07278917890406031096"
     },
     "user_tz": -120
    },
    "id": "4F8rdf5s57mz"
   },
   "outputs": [],
   "source": [
    "train['date'] = pd.to_datetime(train['unix_timestamp'],unit='s')"
   ]
  },
  {
   "cell_type": "code",
   "execution_count": 8,
   "metadata": {
    "colab": {
     "base_uri": "https://localhost:8080/"
    },
    "executionInfo": {
     "elapsed": 2643,
     "status": "ok",
     "timestamp": 1618499714762,
     "user": {
      "displayName": "Sylvester Makgae",
      "photoUrl": "https://lh3.googleusercontent.com/a-/AOh14GgLGUG48jGOJcNGtkP0cg4sx3QW53HJGUf-j5pqVg=s64",
      "userId": "07278917890406031096"
     },
     "user_tz": -120
    },
    "id": "YTRiYDHx57mz",
    "outputId": "f8567842-2673-4c8d-cb89-b25b8951e338"
   },
   "outputs": [
    {
     "name": "stderr",
     "output_type": "stream",
     "text": [
      "<ipython-input-8-34098997b363>:1: FutureWarning: Treating datetime data as categorical rather than numeric in `.describe` is deprecated and will be removed in a future version of pandas. Specify `datetime_is_numeric=True` to silence this warning and adopt the future behavior now.\n",
      "  train.date.describe()\n"
     ]
    },
    {
     "data": {
      "text/plain": [
       "count                 1999999\n",
       "unique                    240\n",
       "top       2014-10-22 09:00:00\n",
       "freq                    22067\n",
       "first     2014-10-21 00:00:00\n",
       "last      2014-10-30 23:00:00\n",
       "Name: date, dtype: object"
      ]
     },
     "execution_count": 8,
     "metadata": {},
     "output_type": "execute_result"
    }
   ],
   "source": [
    "train.date.describe()"
   ]
  },
  {
   "cell_type": "markdown",
   "metadata": {
    "id": "id2-Od7J57m0"
   },
   "source": [
    "The data covers 10 days of click streams data from 2014–10–21 to 2014–10–30, that is 240 hours."
   ]
  },
  {
   "cell_type": "code",
   "execution_count": 9,
   "metadata": {
    "colab": {
     "base_uri": "https://localhost:8080/",
     "height": 427
    },
    "executionInfo": {
     "elapsed": 1584,
     "status": "ok",
     "timestamp": 1618499715263,
     "user": {
      "displayName": "Sylvester Makgae",
      "photoUrl": "https://lh3.googleusercontent.com/a-/AOh14GgLGUG48jGOJcNGtkP0cg4sx3QW53HJGUf-j5pqVg=s64",
      "userId": "07278917890406031096"
     },
     "user_tz": -120
    },
    "id": "l-w_Qehe57m0",
    "outputId": "2eab6acb-1363-42e9-c8bc-f0715b7e80a5"
   },
   "outputs": [
    {
     "data": {
      "image/png": "[encoded data removed]",
      "text/plain": [
       "<Figure size 864x432 with 1 Axes>"
      ]
     },
     "metadata": {
      "needs_background": "light"
     },
     "output_type": "display_data"
    }
   ],
   "source": [
    "train.groupby('date').agg({'click':'sum'}).plot(figsize=(12,6))\n",
    "plt.ylabel('Number of clicks')\n",
    "plt.title('Number of clicks by hour');"
   ]
  },
  {
   "cell_type": "markdown",
   "metadata": {
    "id": "atzrOHDE57m0"
   },
   "source": [
    "The hourly clicks pattern looks pretty similar every day. However, there were a couple of peak hours, one is sometime in the mid of the day on Oct 22, and another is sometime in the mid of the day on Oct 28. And one very low click hour is close to mid-night on Oct 24"
   ]
  },
  {
   "cell_type": "markdown",
   "metadata": {
    "id": "GJ7JTSmM57m1"
   },
   "source": [
    "### Feature engineering for date time features"
   ]
  },
  {
   "cell_type": "code",
   "execution_count": 10,
   "metadata": {
    "colab": {
     "background_save": true
    },
    "id": "iaYI5wdg57m1"
   },
   "outputs": [
    {
     "data": {
      "text/plain": [
       "Text(0.5, 1.0, 'click trends by hour of day')"
      ]
     },
     "execution_count": 10,
     "metadata": {},
     "output_type": "execute_result"
    },
    {
     "data": {
      "image/png": "[encoded data removed]",
      "text/plain": [
       "<Figure size 864x432 with 1 Axes>"
      ]
     },
     "metadata": {
      "needs_background": "light"
     },
     "output_type": "display_data"
    }
   ],
   "source": [
    "train['hour_of_day'] = train.date.apply(lambda x: x.hour)\n",
    "train.groupby('hour_of_day').agg({'click':'sum'}).plot(figsize=(12,6))\n",
    "plt.ylabel('Number of clicks')\n",
    "plt.title('click trends by hour of day')"
   ]
  },
  {
   "cell_type": "markdown",
   "metadata": {
    "id": "Q75YGksM57m1"
   },
   "source": [
    "\n",
    "In general, the highest number of clicks is at hour 13 and 14 (1pm and 2pm), and the least number of clicks is at hour 0 (mid-night). It seems a useful feature for roughly estimation."
   ]
  },
  {
   "cell_type": "code",
   "execution_count": 11,
   "metadata": {},
   "outputs": [
    {
     "data": {
      "text/html": [
       "<div>\n",
       "<style scoped>\n",
       "    .dataframe tbody tr th:only-of-type {\n",
       "        vertical-align: middle;\n",
       "    }\n",
       "\n",
       "    .dataframe tbody tr th {\n",
       "        vertical-align: top;\n",
       "    }\n",
       "\n",
       "    .dataframe thead th {\n",
       "        text-align: right;\n",
       "    }\n",
       "</style>\n",
       "<table border=\"1\" class=\"dataframe\">\n",
       "  <thead>\n",
       "    <tr style=\"text-align: right;\">\n",
       "      <th></th>\n",
       "      <th>id</th>\n",
       "      <th>unix_timestamp</th>\n",
       "      <th>ui_component_position</th>\n",
       "      <th>site_id</th>\n",
       "      <th>site_domain</th>\n",
       "      <th>site_category</th>\n",
       "      <th>app_id</th>\n",
       "      <th>app_domain</th>\n",
       "      <th>app_category</th>\n",
       "      <th>device_id</th>\n",
       "      <th>...</th>\n",
       "      <th>f2</th>\n",
       "      <th>f3</th>\n",
       "      <th>f4</th>\n",
       "      <th>f5</th>\n",
       "      <th>f6</th>\n",
       "      <th>f7</th>\n",
       "      <th>f8</th>\n",
       "      <th>click</th>\n",
       "      <th>date</th>\n",
       "      <th>hour_of_day</th>\n",
       "    </tr>\n",
       "  </thead>\n",
       "  <tbody>\n",
       "    <tr>\n",
       "      <th>0</th>\n",
       "      <td>10000679056417042096</td>\n",
       "      <td>1413849600</td>\n",
       "      <td>1</td>\n",
       "      <td>fe8cc448</td>\n",
       "      <td>9166c161</td>\n",
       "      <td>0569f928</td>\n",
       "      <td>ecad2386</td>\n",
       "      <td>7801e8d9</td>\n",
       "      <td>07d7df22</td>\n",
       "      <td>a99f214a</td>\n",
       "      <td>...</td>\n",
       "      <td>320</td>\n",
       "      <td>50</td>\n",
       "      <td>2161</td>\n",
       "      <td>0</td>\n",
       "      <td>35</td>\n",
       "      <td>NaN</td>\n",
       "      <td>157</td>\n",
       "      <td>0</td>\n",
       "      <td>2014-10-21</td>\n",
       "      <td>0</td>\n",
       "    </tr>\n",
       "    <tr>\n",
       "      <th>1</th>\n",
       "      <td>10010730108771379386</td>\n",
       "      <td>1413849600</td>\n",
       "      <td>1</td>\n",
       "      <td>e151e245</td>\n",
       "      <td>7e091613</td>\n",
       "      <td>f028772b</td>\n",
       "      <td>ecad2386</td>\n",
       "      <td>7801e8d9</td>\n",
       "      <td>07d7df22</td>\n",
       "      <td>a99f214a</td>\n",
       "      <td>...</td>\n",
       "      <td>320</td>\n",
       "      <td>50</td>\n",
       "      <td>2374</td>\n",
       "      <td>3</td>\n",
       "      <td>39</td>\n",
       "      <td>NaN</td>\n",
       "      <td>23</td>\n",
       "      <td>0</td>\n",
       "      <td>2014-10-21</td>\n",
       "      <td>0</td>\n",
       "    </tr>\n",
       "    <tr>\n",
       "      <th>2</th>\n",
       "      <td>10017325201002992404</td>\n",
       "      <td>1413849600</td>\n",
       "      <td>0</td>\n",
       "      <td>1fbe01fe</td>\n",
       "      <td>f3845767</td>\n",
       "      <td>28905ebd</td>\n",
       "      <td>ecad2386</td>\n",
       "      <td>7801e8d9</td>\n",
       "      <td>07d7df22</td>\n",
       "      <td>a99f214a</td>\n",
       "      <td>...</td>\n",
       "      <td>320</td>\n",
       "      <td>50</td>\n",
       "      <td>1722</td>\n",
       "      <td>0</td>\n",
       "      <td>35</td>\n",
       "      <td>NaN</td>\n",
       "      <td>79</td>\n",
       "      <td>1</td>\n",
       "      <td>2014-10-21</td>\n",
       "      <td>0</td>\n",
       "    </tr>\n",
       "  </tbody>\n",
       "</table>\n",
       "<p>3 rows × 26 columns</p>\n",
       "</div>"
      ],
      "text/plain": [
       "                     id  unix_timestamp  ui_component_position   site_id  \\\n",
       "0  10000679056417042096      1413849600                      1  fe8cc448   \n",
       "1  10010730108771379386      1413849600                      1  e151e245   \n",
       "2  10017325201002992404      1413849600                      0  1fbe01fe   \n",
       "\n",
       "  site_domain site_category    app_id app_domain app_category device_id  ...  \\\n",
       "0    9166c161      0569f928  ecad2386   7801e8d9     07d7df22  a99f214a  ...   \n",
       "1    7e091613      f028772b  ecad2386   7801e8d9     07d7df22  a99f214a  ...   \n",
       "2    f3845767      28905ebd  ecad2386   7801e8d9     07d7df22  a99f214a  ...   \n",
       "\n",
       "    f2  f3    f4  f5  f6  f7   f8  click       date  hour_of_day  \n",
       "0  320  50  2161   0  35 NaN  157      0 2014-10-21            0  \n",
       "1  320  50  2374   3  39 NaN   23      0 2014-10-21            0  \n",
       "2  320  50  1722   0  35 NaN   79      1 2014-10-21            0  \n",
       "\n",
       "[3 rows x 26 columns]"
      ]
     },
     "execution_count": 11,
     "metadata": {},
     "output_type": "execute_result"
    }
   ],
   "source": [
    "train.head(3)"
   ]
  },
  {
   "cell_type": "markdown",
   "metadata": {},
   "source": [
    "taking impression into consideration"
   ]
  },
  {
   "cell_type": "code",
   "execution_count": 12,
   "metadata": {},
   "outputs": [
    {
     "data": {
      "image/png": "[encoded data removed]",
      "text/plain": [
       "<Figure size 864x432 with 1 Axes>"
      ]
     },
     "metadata": {
      "needs_background": "light"
     },
     "output_type": "display_data"
    }
   ],
   "source": [
    "train.groupby(['hour_of_day', 'click']).size().unstack().plot(kind='bar', title=\"Hour of Day\", figsize=(12,6))\n",
    "plt.ylabel('count')\n",
    "plt.title('Hourly impressions vs. clicks');"
   ]
  },
  {
   "cell_type": "markdown",
   "metadata": {},
   "source": [
    "Nothing is surprising here"
   ]
  },
  {
   "cell_type": "code",
   "execution_count": 13,
   "metadata": {},
   "outputs": [
    {
     "data": {
      "text/html": [
       "<div>\n",
       "<style scoped>\n",
       "    .dataframe tbody tr th:only-of-type {\n",
       "        vertical-align: middle;\n",
       "    }\n",
       "\n",
       "    .dataframe tbody tr th {\n",
       "        vertical-align: top;\n",
       "    }\n",
       "\n",
       "    .dataframe thead th {\n",
       "        text-align: right;\n",
       "    }\n",
       "</style>\n",
       "<table border=\"1\" class=\"dataframe\">\n",
       "  <thead>\n",
       "    <tr style=\"text-align: right;\">\n",
       "      <th></th>\n",
       "      <th>id</th>\n",
       "      <th>unix_timestamp</th>\n",
       "      <th>ui_component_position</th>\n",
       "      <th>site_id</th>\n",
       "      <th>site_domain</th>\n",
       "      <th>site_category</th>\n",
       "      <th>app_id</th>\n",
       "      <th>app_domain</th>\n",
       "      <th>app_category</th>\n",
       "      <th>device_id</th>\n",
       "      <th>...</th>\n",
       "      <th>f2</th>\n",
       "      <th>f3</th>\n",
       "      <th>f4</th>\n",
       "      <th>f5</th>\n",
       "      <th>f6</th>\n",
       "      <th>f7</th>\n",
       "      <th>f8</th>\n",
       "      <th>click</th>\n",
       "      <th>date</th>\n",
       "      <th>hour_of_day</th>\n",
       "    </tr>\n",
       "  </thead>\n",
       "  <tbody>\n",
       "    <tr>\n",
       "      <th>0</th>\n",
       "      <td>10000679056417042096</td>\n",
       "      <td>1413849600</td>\n",
       "      <td>1</td>\n",
       "      <td>fe8cc448</td>\n",
       "      <td>9166c161</td>\n",
       "      <td>0569f928</td>\n",
       "      <td>ecad2386</td>\n",
       "      <td>7801e8d9</td>\n",
       "      <td>07d7df22</td>\n",
       "      <td>a99f214a</td>\n",
       "      <td>...</td>\n",
       "      <td>320</td>\n",
       "      <td>50</td>\n",
       "      <td>2161</td>\n",
       "      <td>0</td>\n",
       "      <td>35</td>\n",
       "      <td>NaN</td>\n",
       "      <td>157</td>\n",
       "      <td>0</td>\n",
       "      <td>2014-10-21</td>\n",
       "      <td>0</td>\n",
       "    </tr>\n",
       "    <tr>\n",
       "      <th>1</th>\n",
       "      <td>10010730108771379386</td>\n",
       "      <td>1413849600</td>\n",
       "      <td>1</td>\n",
       "      <td>e151e245</td>\n",
       "      <td>7e091613</td>\n",
       "      <td>f028772b</td>\n",
       "      <td>ecad2386</td>\n",
       "      <td>7801e8d9</td>\n",
       "      <td>07d7df22</td>\n",
       "      <td>a99f214a</td>\n",
       "      <td>...</td>\n",
       "      <td>320</td>\n",
       "      <td>50</td>\n",
       "      <td>2374</td>\n",
       "      <td>3</td>\n",
       "      <td>39</td>\n",
       "      <td>NaN</td>\n",
       "      <td>23</td>\n",
       "      <td>0</td>\n",
       "      <td>2014-10-21</td>\n",
       "      <td>0</td>\n",
       "    </tr>\n",
       "    <tr>\n",
       "      <th>2</th>\n",
       "      <td>10017325201002992404</td>\n",
       "      <td>1413849600</td>\n",
       "      <td>0</td>\n",
       "      <td>1fbe01fe</td>\n",
       "      <td>f3845767</td>\n",
       "      <td>28905ebd</td>\n",
       "      <td>ecad2386</td>\n",
       "      <td>7801e8d9</td>\n",
       "      <td>07d7df22</td>\n",
       "      <td>a99f214a</td>\n",
       "      <td>...</td>\n",
       "      <td>320</td>\n",
       "      <td>50</td>\n",
       "      <td>1722</td>\n",
       "      <td>0</td>\n",
       "      <td>35</td>\n",
       "      <td>NaN</td>\n",
       "      <td>79</td>\n",
       "      <td>1</td>\n",
       "      <td>2014-10-21</td>\n",
       "      <td>0</td>\n",
       "    </tr>\n",
       "  </tbody>\n",
       "</table>\n",
       "<p>3 rows × 26 columns</p>\n",
       "</div>"
      ],
      "text/plain": [
       "                     id  unix_timestamp  ui_component_position   site_id  \\\n",
       "0  10000679056417042096      1413849600                      1  fe8cc448   \n",
       "1  10010730108771379386      1413849600                      1  e151e245   \n",
       "2  10017325201002992404      1413849600                      0  1fbe01fe   \n",
       "\n",
       "  site_domain site_category    app_id app_domain app_category device_id  ...  \\\n",
       "0    9166c161      0569f928  ecad2386   7801e8d9     07d7df22  a99f214a  ...   \n",
       "1    7e091613      f028772b  ecad2386   7801e8d9     07d7df22  a99f214a  ...   \n",
       "2    f3845767      28905ebd  ecad2386   7801e8d9     07d7df22  a99f214a  ...   \n",
       "\n",
       "    f2  f3    f4  f5  f6  f7   f8  click       date  hour_of_day  \n",
       "0  320  50  2161   0  35 NaN  157      0 2014-10-21            0  \n",
       "1  320  50  2374   3  39 NaN   23      0 2014-10-21            0  \n",
       "2  320  50  1722   0  35 NaN   79      1 2014-10-21            0  \n",
       "\n",
       "[3 rows x 26 columns]"
      ]
     },
     "execution_count": 13,
     "metadata": {},
     "output_type": "execute_result"
    }
   ],
   "source": [
    "train.head(3)"
   ]
  },
  {
   "cell_type": "markdown",
   "metadata": {},
   "source": [
    "with click and impression, I can then calculate CTR as the ration clicks to impression."
   ]
  },
  {
   "cell_type": "markdown",
   "metadata": {},
   "source": [
    "### Hourly CTR"
   ]
  },
  {
   "cell_type": "code",
   "execution_count": 14,
   "metadata": {},
   "outputs": [
    {
     "data": {
      "text/plain": [
       "Text(0.5, 1.0, 'Hourly CTR')"
      ]
     },
     "execution_count": 14,
     "metadata": {},
     "output_type": "execute_result"
    },
    {
     "data": {
      "image/png": "[encoded data removed]",
      "text/plain": [
       "<Figure size 864x432 with 1 Axes>"
      ]
     },
     "metadata": {
      "needs_background": "light"
     },
     "output_type": "display_data"
    }
   ],
   "source": [
    "import seaborn as sns\n",
    "\n",
    "df_click = train[train['click'] == 1]\n",
    "df_hour = train[['hour_of_day','click']].groupby(['hour_of_day']).count().reset_index()\n",
    "df_hour = df_hour.rename(columns={'click': 'impressions'})\n",
    "df_hour['clicks'] = df_click[['hour_of_day','click']].groupby(['hour_of_day']).count().reset_index()['click']\n",
    "df_hour['CTR'] = df_hour['clicks']/df_hour['impressions']*100\n",
    "\n",
    "plt.figure(figsize=(12,6))\n",
    "sns.barplot(y='CTR', x='hour_of_day', data=df_hour)\n",
    "plt.title('Hourly CTR')"
   ]
  },
  {
   "cell_type": "markdown",
   "metadata": {},
   "source": [
    "Interesting part here is that the most CTR happened during midnight, 1 , 7 and 15 and from our previous observation the least number of clicks happened during midnight."
   ]
  },
  {
   "cell_type": "markdown",
   "metadata": {},
   "source": [
    "### Day of the week"
   ]
  },
  {
   "cell_type": "code",
   "execution_count": 15,
   "metadata": {
    "scrolled": true
   },
   "outputs": [
    {
     "data": {
      "image/png": "[encoded data removed]",
      "text/plain": [
       "<Figure size 864x432 with 1 Axes>"
      ]
     },
     "metadata": {
      "needs_background": "light"
     },
     "output_type": "display_data"
    }
   ],
   "source": [
    "train['day_of_week'] = train['date'].apply(lambda val: val.day_name())\n",
    "cats = ['Monday', 'Tuesday', 'Wednesday', 'Thursday', 'Friday', 'Saturday', 'Sunday']\n",
    "train.groupby('day_of_week').agg({'click':'sum'}).reindex(cats).plot(figsize=(12,6))\n",
    "ticks = list(range(0, 7, 1)) # points on the x axis where you want the label to appear\n",
    "labels = \"Mon Tues Weds Thurs Fri Sat Sun\".split()\n",
    "plt.xticks(ticks, labels)\n",
    "plt.title('click trends by day of week');"
   ]
  },
  {
   "cell_type": "code",
   "execution_count": 16,
   "metadata": {},
   "outputs": [
    {
     "data": {
      "image/png": "[encoded data removed]",
      "text/plain": [
       "<Figure size 864x432 with 1 Axes>"
      ]
     },
     "metadata": {
      "needs_background": "light"
     },
     "output_type": "display_data"
    }
   ],
   "source": [
    "train.groupby(['day_of_week','click']).size().unstack().reindex(cats).plot(kind='bar', title=\"Day of the Week\", figsize=(12,6))\n",
    "ticks = list(range(0, 7, 1)) # points on the x axis where you want the label to appear\n",
    "labels = \"Mon Tues Weds Thurs Fri Sat Sun\".split()\n",
    "plt.xticks(ticks, labels)\n",
    "plt.title('Impressions vs. clicks by day of week');"
   ]
  },
  {
   "cell_type": "markdown",
   "metadata": {},
   "source": [
    "Tuesdays have the most impressions and clicks, then Wednesdays, followed by Thursdays. Mondays and Fridays have the least number of impressions and clicks"
   ]
  },
  {
   "cell_type": "markdown",
   "metadata": {},
   "source": [
    "### Day of week CTR"
   ]
  },
  {
   "cell_type": "code",
   "execution_count": 17,
   "metadata": {},
   "outputs": [
    {
     "data": {
      "text/html": [
       "<div>\n",
       "<style scoped>\n",
       "    .dataframe tbody tr th:only-of-type {\n",
       "        vertical-align: middle;\n",
       "    }\n",
       "\n",
       "    .dataframe tbody tr th {\n",
       "        vertical-align: top;\n",
       "    }\n",
       "\n",
       "    .dataframe thead th {\n",
       "        text-align: right;\n",
       "    }\n",
       "</style>\n",
       "<table border=\"1\" class=\"dataframe\">\n",
       "  <thead>\n",
       "    <tr style=\"text-align: right;\">\n",
       "      <th></th>\n",
       "      <th>id</th>\n",
       "      <th>unix_timestamp</th>\n",
       "      <th>ui_component_position</th>\n",
       "      <th>site_id</th>\n",
       "      <th>site_domain</th>\n",
       "      <th>site_category</th>\n",
       "      <th>app_id</th>\n",
       "      <th>app_domain</th>\n",
       "      <th>app_category</th>\n",
       "      <th>device_id</th>\n",
       "      <th>...</th>\n",
       "      <th>f3</th>\n",
       "      <th>f4</th>\n",
       "      <th>f5</th>\n",
       "      <th>f6</th>\n",
       "      <th>f7</th>\n",
       "      <th>f8</th>\n",
       "      <th>click</th>\n",
       "      <th>date</th>\n",
       "      <th>hour_of_day</th>\n",
       "      <th>day_of_week</th>\n",
       "    </tr>\n",
       "  </thead>\n",
       "  <tbody>\n",
       "    <tr>\n",
       "      <th>0</th>\n",
       "      <td>10000679056417042096</td>\n",
       "      <td>1413849600</td>\n",
       "      <td>1</td>\n",
       "      <td>fe8cc448</td>\n",
       "      <td>9166c161</td>\n",
       "      <td>0569f928</td>\n",
       "      <td>ecad2386</td>\n",
       "      <td>7801e8d9</td>\n",
       "      <td>07d7df22</td>\n",
       "      <td>a99f214a</td>\n",
       "      <td>...</td>\n",
       "      <td>50</td>\n",
       "      <td>2161</td>\n",
       "      <td>0</td>\n",
       "      <td>35</td>\n",
       "      <td>NaN</td>\n",
       "      <td>157</td>\n",
       "      <td>0</td>\n",
       "      <td>2014-10-21</td>\n",
       "      <td>0</td>\n",
       "      <td>Tuesday</td>\n",
       "    </tr>\n",
       "    <tr>\n",
       "      <th>1</th>\n",
       "      <td>10010730108771379386</td>\n",
       "      <td>1413849600</td>\n",
       "      <td>1</td>\n",
       "      <td>e151e245</td>\n",
       "      <td>7e091613</td>\n",
       "      <td>f028772b</td>\n",
       "      <td>ecad2386</td>\n",
       "      <td>7801e8d9</td>\n",
       "      <td>07d7df22</td>\n",
       "      <td>a99f214a</td>\n",
       "      <td>...</td>\n",
       "      <td>50</td>\n",
       "      <td>2374</td>\n",
       "      <td>3</td>\n",
       "      <td>39</td>\n",
       "      <td>NaN</td>\n",
       "      <td>23</td>\n",
       "      <td>0</td>\n",
       "      <td>2014-10-21</td>\n",
       "      <td>0</td>\n",
       "      <td>Tuesday</td>\n",
       "    </tr>\n",
       "    <tr>\n",
       "      <th>2</th>\n",
       "      <td>10017325201002992404</td>\n",
       "      <td>1413849600</td>\n",
       "      <td>0</td>\n",
       "      <td>1fbe01fe</td>\n",
       "      <td>f3845767</td>\n",
       "      <td>28905ebd</td>\n",
       "      <td>ecad2386</td>\n",
       "      <td>7801e8d9</td>\n",
       "      <td>07d7df22</td>\n",
       "      <td>a99f214a</td>\n",
       "      <td>...</td>\n",
       "      <td>50</td>\n",
       "      <td>1722</td>\n",
       "      <td>0</td>\n",
       "      <td>35</td>\n",
       "      <td>NaN</td>\n",
       "      <td>79</td>\n",
       "      <td>1</td>\n",
       "      <td>2014-10-21</td>\n",
       "      <td>0</td>\n",
       "      <td>Tuesday</td>\n",
       "    </tr>\n",
       "  </tbody>\n",
       "</table>\n",
       "<p>3 rows × 27 columns</p>\n",
       "</div>"
      ],
      "text/plain": [
       "                     id  unix_timestamp  ui_component_position   site_id  \\\n",
       "0  10000679056417042096      1413849600                      1  fe8cc448   \n",
       "1  10010730108771379386      1413849600                      1  e151e245   \n",
       "2  10017325201002992404      1413849600                      0  1fbe01fe   \n",
       "\n",
       "  site_domain site_category    app_id app_domain app_category device_id  ...  \\\n",
       "0    9166c161      0569f928  ecad2386   7801e8d9     07d7df22  a99f214a  ...   \n",
       "1    7e091613      f028772b  ecad2386   7801e8d9     07d7df22  a99f214a  ...   \n",
       "2    f3845767      28905ebd  ecad2386   7801e8d9     07d7df22  a99f214a  ...   \n",
       "\n",
       "   f3    f4  f5  f6  f7   f8  click       date  hour_of_day  day_of_week  \n",
       "0  50  2161   0  35 NaN  157      0 2014-10-21            0      Tuesday  \n",
       "1  50  2374   3  39 NaN   23      0 2014-10-21            0      Tuesday  \n",
       "2  50  1722   0  35 NaN   79      1 2014-10-21            0      Tuesday  \n",
       "\n",
       "[3 rows x 27 columns]"
      ]
     },
     "execution_count": 17,
     "metadata": {},
     "output_type": "execute_result"
    }
   ],
   "source": [
    "train.head(3)"
   ]
  },
  {
   "cell_type": "code",
   "execution_count": 18,
   "metadata": {},
   "outputs": [
    {
     "data": {
      "image/png": "[encoded data removed]",
      "text/plain": [
       "<Figure size 864x432 with 1 Axes>"
      ]
     },
     "metadata": {
      "needs_background": "light"
     },
     "output_type": "display_data"
    }
   ],
   "source": [
    "df_click = train[train['click'] == 1]\n",
    "df_dayofweek = train[['day_of_week','click']].groupby(['day_of_week']).count().reset_index()\n",
    "df_dayofweek = df_dayofweek.rename(columns={'click': 'impressions'})\n",
    "df_dayofweek['clicks'] = df_click[['day_of_week','click']].groupby(['day_of_week']).count().reset_index()['click']\n",
    "df_dayofweek['CTR'] = df_dayofweek['clicks']/df_dayofweek['impressions']*100\n",
    "\n",
    "plt.figure(figsize=(12,6))\n",
    "sns.barplot(y='CTR', x='day_of_week', data=df_dayofweek, order=['Monday', 'Tuesday', 'Wednesday', 'Thursday', 'Friday', 'Saturday', 'Sunday'])\n",
    "plt.title('Day of week CTR');"
   ]
  },
  {
   "cell_type": "markdown",
   "metadata": {},
   "source": [
    "While Tuesdays and Wednesdays have the highest number of impressions and clicks, their CTR are among the lowest. Saturdays and Sundays enjoy the highest CTR. Apparently, people have more time to click over the weekend."
   ]
  },
  {
   "cell_type": "markdown",
   "metadata": {},
   "source": [
    "\n",
    "### F0 feature\n",
    "f0 is one of the anonymized categorical features. Although we don't know its meaning, we still want to have a look its distribution."
   ]
  },
  {
   "cell_type": "code",
   "execution_count": 19,
   "metadata": {},
   "outputs": [
    {
     "name": "stdout",
     "output_type": "stream",
     "text": [
      "1005    0.918428\n",
      "1002    0.055203\n",
      "1010    0.022338\n",
      "1012    0.002804\n",
      "1007    0.000870\n",
      "1001    0.000222\n",
      "1008    0.000136\n",
      "Name: f0, dtype: float64\n"
     ]
    }
   ],
   "source": [
    "print(train.f0.value_counts()/len(train))"
   ]
  },
  {
   "cell_type": "code",
   "execution_count": 24,
   "metadata": {},
   "outputs": [
    {
     "name": "stdout",
     "output_type": "stream",
     "text": [
      "for C1 value: 1001,  click through rate: 0.04054054054054054\n",
      "for C1 value: 1002,  click through rate: 0.21155553140227887\n",
      "for C1 value: 1005,  click through rate: 0.16935241521382188\n",
      "for C1 value: 1007,  click through rate: 0.04195402298850575\n",
      "for C1 value: 1008,  click through rate: 0.11808118081180811\n",
      "for C1 value: 1010,  click through rate: 0.09421376608841633\n",
      "for C1 value: 1012,  click through rate: 0.17692170501159266\n"
     ]
    }
   ],
   "source": [
    "f0_values = train.f0.unique()\n",
    "f0_values.sort()\n",
    "ctr_avg_list=[]\n",
    "for i in f0_values:\n",
    "    ctr_avg=train.loc[n.where((train.f0 == i))].click.mean()\n",
    "    ctr_avg_list.append(ctr_avg)\n",
    "    print(\"for C1 value: {},  click through rate: {}\".format(i,ctr_avg))"
   ]
  },
  {
   "cell_type": "code",
   "execution_count": 25,
   "metadata": {},
   "outputs": [
    {
     "data": {
      "image/png": "[encoded data removed]",
      "text/plain": [
       "<Figure size 864x432 with 1 Axes>"
      ]
     },
     "metadata": {
      "needs_background": "light"
     },
     "output_type": "display_data"
    }
   ],
   "source": [
    "train.groupby(['f0', 'click']).size().unstack().plot(kind='bar', figsize=(12,6), title='f0 histogram');"
   ]
  },
  {
   "cell_type": "code",
   "execution_count": 27,
   "metadata": {},
   "outputs": [
    {
     "data": {
      "image/png": "[encoded data removed]",
      "text/plain": [
       "<Figure size 864x432 with 1 Axes>"
      ]
     },
     "metadata": {
      "needs_background": "light"
     },
     "output_type": "display_data"
    }
   ],
   "source": [
    "\n",
    "df_f0 = train[['f0','click']].groupby(['f0']).count().reset_index()\n",
    "df_f0 = df_f0.rename(columns={'click': 'impressions'})\n",
    "df_f0['clicks'] = df_click[['f0','click']].groupby(['f0']).count().reset_index()['click']\n",
    "df_f0['CTR'] = df_f0['clicks']/df_f0['impressions']*100\n",
    "\n",
    "plt.figure(figsize=(12,6))\n",
    "sns.barplot(y='CTR', x='f0', data=df_f0)\n",
    "plt.title('CTR by f0');"
   ]
  },
  {
   "cell_type": "markdown",
   "metadata": {},
   "source": [
    "The average CTR in the data is 0.17."
   ]
  },
  {
   "cell_type": "code",
   "execution_count": 28,
   "metadata": {},
   "outputs": [
    {
     "data": {
      "text/plain": [
       "0.16987858493929248"
      ]
     },
     "execution_count": 28,
     "metadata": {},
     "output_type": "execute_result"
    }
   ],
   "source": [
    "train['click'].mean()"
   ]
  },
  {
   "cell_type": "code",
   "execution_count": 30,
   "metadata": {},
   "outputs": [
    {
     "data": {
      "text/plain": [
       "count     7.000000\n",
       "mean     12.180274\n",
       "std       6.721731\n",
       "min       4.054054\n",
       "25%       6.808389\n",
       "50%      11.808118\n",
       "75%      17.313706\n",
       "max      21.155553\n",
       "Name: CTR, dtype: float64"
      ]
     },
     "execution_count": 30,
     "metadata": {},
     "output_type": "execute_result"
    }
   ],
   "source": [
    "df_f0.CTR.describe()"
   ]
  },
  {
   "cell_type": "markdown",
   "metadata": {},
   "source": [
    "The important f0 values and CTR pairs are:\n",
    "\n",
    "1005: 92% of the data and 0.17 CTR\n",
    "\n",
    "1002: 5.5% of the data and 0.21 CTR\n",
    "\n",
    "1010: 2.3% of the data and 0.096 CTR\n",
    "\n",
    "1002 has a much higher than average CTR, and 1010 has a much lower than average CTR, it seems these two f0 values are important for predicting CTR."
   ]
  },
  {
   "cell_type": "markdown",
   "metadata": {},
   "source": [
    "### cui_component_position"
   ]
  },
  {
   "cell_type": "markdown",
   "metadata": {},
   "source": [
    "I have heard that there are many factors that affect the performance of your banner ads, but the most influential one is the banner position. Let's see whether it is true."
   ]
  },
  {
   "cell_type": "code",
   "execution_count": 31,
   "metadata": {},
   "outputs": [
    {
     "name": "stdout",
     "output_type": "stream",
     "text": [
      "0    0.720299\n",
      "1    0.277919\n",
      "7    0.001075\n",
      "2    0.000330\n",
      "4    0.000196\n",
      "5    0.000135\n",
      "3    0.000046\n",
      "Name: ui_component_position, dtype: float64\n"
     ]
    }
   ],
   "source": [
    "print(train.ui_component_position.value_counts()/len(train))"
   ]
  },
  {
   "cell_type": "code",
   "execution_count": 33,
   "metadata": {},
   "outputs": [
    {
     "name": "stdout",
     "output_type": "stream",
     "text": [
      "for ui_component_position: 0,  click through rate: 0.1642547053376445\n",
      "for ui_component_position: 1,  click through rate: 0.18390790122301823\n",
      "for ui_component_position: 2,  click through rate: 0.12272727272727273\n",
      "for ui_component_position: 3,  click through rate: 0.21739130434782608\n",
      "for ui_component_position: 4,  click through rate: 0.21428571428571427\n",
      "for ui_component_position: 5,  click through rate: 0.11851851851851852\n",
      "for ui_component_position: 7,  click through rate: 0.3220102373196836\n"
     ]
    }
   ],
   "source": [
    "ui_component_position = train.ui_component_position.unique()\n",
    "ui_component_position.sort()\n",
    "ctr_avg_list=[]\n",
    "for i in ui_component_position:\n",
    "    ctr_avg=train.loc[n.where((train.ui_component_position == i))].click.mean()\n",
    "    ctr_avg_list.append(ctr_avg)\n",
    "    print(\"for ui_component_position: {},  click through rate: {}\".format(i,ctr_avg))"
   ]
  },
  {
   "cell_type": "markdown",
   "metadata": {},
   "source": [
    "\n",
    "The important ui_component_position are:\n",
    "\n",
    "position 0: 72% of the data and 0.16 CTR\n",
    "\n",
    "position 1: 28% of the data and 0.18 CTR"
   ]
  },
  {
   "cell_type": "code",
   "execution_count": 35,
   "metadata": {},
   "outputs": [
    {
     "data": {
      "text/plain": [
       "<AxesSubplot:title={'center':'ui_component_position histogram'}, xlabel='ui_component_position'>"
      ]
     },
     "execution_count": 35,
     "metadata": {},
     "output_type": "execute_result"
    },
    {
     "data": {
      "image/png": "[encoded data removed]",
      "text/plain": [
       "<Figure size 864x432 with 1 Axes>"
      ]
     },
     "metadata": {
      "needs_background": "light"
     },
     "output_type": "display_data"
    }
   ],
   "source": [
    "train.groupby(['ui_component_position', 'click']).size().unstack().plot(kind='bar', figsize=(12,6), title='ui_component_position histogram')"
   ]
  },
  {
   "cell_type": "code",
   "execution_count": 37,
   "metadata": {
    "scrolled": true
   },
   "outputs": [
    {
     "data": {
      "image/png": "[encoded data removed]",
      "text/plain": [
       "<Figure size 864x432 with 1 Axes>"
      ]
     },
     "metadata": {
      "needs_background": "light"
     },
     "output_type": "display_data"
    }
   ],
   "source": [
    "df_banner = train[['ui_component_position','click']].groupby(['ui_component_position']).count().reset_index()\n",
    "df_banner = df_banner.rename(columns={'click': 'impressions'})\n",
    "df_banner['clicks'] = df_click[['ui_component_position','click']].groupby(['ui_component_position']).count().reset_index()['click']\n",
    "df_banner['CTR'] = df_banner['clicks']/df_banner['impressions']*100\n",
    "sort_banners = df_banner.sort_values(by='CTR',ascending=False)['ui_component_position'].tolist()\n",
    "plt.figure(figsize=(12,6))\n",
    "sns.barplot(y='CTR', x='ui_component_position', data=df_banner, order=sort_banners)\n",
    "plt.title('CTR by ui_component_position');"
   ]
  },
  {
   "cell_type": "code",
   "execution_count": 38,
   "metadata": {},
   "outputs": [
    {
     "data": {
      "text/plain": [
       "count     7.000000\n",
       "mean     19.187081\n",
       "std       6.961494\n",
       "min      11.851852\n",
       "25%      14.349099\n",
       "50%      18.390790\n",
       "75%      21.583851\n",
       "max      32.201024\n",
       "Name: CTR, dtype: float64"
      ]
     },
     "execution_count": 38,
     "metadata": {},
     "output_type": "execute_result"
    }
   ],
   "source": [
    "df_banner.CTR.describe()"
   ]
  },
  {
   "cell_type": "markdown",
   "metadata": {},
   "source": [
    "\n",
    "Although ui_component_position 0 and 1 have the highest number of impressions and clicks, ui_component_position 7 enjoys the highest click through rate. Increasing the number of ads placed on ui_component_position 7 seems to be a good idea."
   ]
  },
  {
   "cell_type": "code",
   "execution_count": null,
   "metadata": {},
   "outputs": [],
   "source": []
  }
 ],
 "metadata": {
  "colab": {
   "name": "Feature Engineering and Exploratory data analysis.ipynb",
   "toc_visible": true,
   "version": ""
  },
  "kernelspec": {
   "display_name": "Python 3",
   "language": "python",
   "name": "python3"
  },
  "language_info": {
   "codemirror_mode": {
    "name": "ipython",
    "version": 3
   },
   "file_extension": ".py",
   "mimetype": "text/x-python",
   "name": "python",
   "nbconvert_exporter": "python",
   "pygments_lexer": "ipython3",
   "version": "3.8.5"
  }
 },
 "nbformat": 4,
 "nbformat_minor": 1
}
